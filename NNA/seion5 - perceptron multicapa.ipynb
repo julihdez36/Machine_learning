{
 "cells": [
  {
   "cell_type": "markdown",
   "metadata": {},
   "source": [
    "## Perceptrón multicapa (MLP)\n",
    "\n",
    "- Es una red compuesta por una capa de entrada, capas ocultas y una capa de salidad.\n",
    "- La señal de entrada se propaga hacia adelante entre distintas capas\n",
    "- Es una generalización del perceptrón de una capa, por lo que puede solucionar problemas mas complejos.\n",
    "- El algoritmo más común de entrenamiento es el algoritmo de propagación hacia atrás (bacl-propagation) que se basa en la regla de entrenamiento de correción del valor\n",
    "- La señal de activación debe ser derivable, ya que en el calculo del erro debemos derivar la función. Se utiliza la función lineal y sigmoide.\n",
    "\n",
    "### Entrnamiento\n",
    "1. Paso hacia adelante: la señal de entrada es aplicada y se propaga hacia adelante capa a capa\n",
    "2. Paso hacia atrás: se ajustan los pesos de cada capa utilizando la regla de correción de error\n",
    "\n",
    "\n"
   ]
  },
  {
   "cell_type": "code",
   "execution_count": 1,
   "metadata": {},
   "outputs": [],
   "source": [
    "import numpy as np"
   ]
  },
  {
   "cell_type": "code",
   "execution_count": 2,
   "metadata": {},
   "outputs": [],
   "source": [
    "# Función de activación\n",
    "\n",
    "def activacion(x): # recordemos que debe ser derivable\n",
    "  return x\n",
    "activacion_v = np.vectorize(activacion)"
   ]
  },
  {
   "cell_type": "code",
   "execution_count": 12,
   "metadata": {},
   "outputs": [],
   "source": [
    "# \n",
    "def red_neuronal(input, weight_h1,bias_h1):\n",
    "    layer_1 = np.dot(weight_h1, input.T)+bias_h1\n",
    "    output_1 = activacion_v(layer_1)\n",
    "    return output_1"
   ]
  },
  {
   "cell_type": "code",
   "execution_count": 13,
   "metadata": {},
   "outputs": [
    {
     "name": "stdout",
     "output_type": "stream",
     "text": [
      "[0.17132887]\n"
     ]
    }
   ],
   "source": [
    "# probemos nuestra neurona\n",
    "\n",
    "input = np.array([0.7,0.3,0.5])\n",
    "weightC1 = np.random.uniform(-1,1,3)\n",
    "biasC1 = np.random.uniform(-1,1,1)\n",
    "output = red_neuronal(input, weightC1,biasC1)  \n",
    "print(output)"
   ]
  },
  {
   "cell_type": "code",
   "execution_count": null,
   "metadata": {},
   "outputs": [],
   "source": []
  },
  {
   "cell_type": "code",
   "execution_count": null,
   "metadata": {},
   "outputs": [],
   "source": []
  },
  {
   "cell_type": "code",
   "execution_count": null,
   "metadata": {},
   "outputs": [],
   "source": []
  },
  {
   "cell_type": "code",
   "execution_count": null,
   "metadata": {},
   "outputs": [],
   "source": []
  },
  {
   "cell_type": "code",
   "execution_count": null,
   "metadata": {},
   "outputs": [],
   "source": []
  },
  {
   "cell_type": "code",
   "execution_count": null,
   "metadata": {},
   "outputs": [],
   "source": []
  },
  {
   "cell_type": "code",
   "execution_count": null,
   "metadata": {},
   "outputs": [],
   "source": []
  },
  {
   "cell_type": "code",
   "execution_count": null,
   "metadata": {},
   "outputs": [],
   "source": []
  },
  {
   "cell_type": "code",
   "execution_count": null,
   "metadata": {},
   "outputs": [],
   "source": []
  },
  {
   "cell_type": "code",
   "execution_count": null,
   "metadata": {},
   "outputs": [],
   "source": []
  },
  {
   "cell_type": "code",
   "execution_count": null,
   "metadata": {},
   "outputs": [],
   "source": []
  },
  {
   "cell_type": "code",
   "execution_count": null,
   "metadata": {},
   "outputs": [],
   "source": []
  },
  {
   "cell_type": "code",
   "execution_count": null,
   "metadata": {},
   "outputs": [],
   "source": []
  },
  {
   "cell_type": "code",
   "execution_count": null,
   "metadata": {},
   "outputs": [],
   "source": []
  }
 ],
 "metadata": {
  "kernelspec": {
   "display_name": "Python 3",
   "language": "python",
   "name": "python3"
  },
  "language_info": {
   "codemirror_mode": {
    "name": "ipython",
    "version": 3
   },
   "file_extension": ".py",
   "mimetype": "text/x-python",
   "name": "python",
   "nbconvert_exporter": "python",
   "pygments_lexer": "ipython3",
   "version": "3.12.8"
  }
 },
 "nbformat": 4,
 "nbformat_minor": 2
}
