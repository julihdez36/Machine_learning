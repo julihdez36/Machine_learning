{
 "cells": [
  {
   "cell_type": "markdown",
   "metadata": {},
   "source": [
    "### Funciones de activación"
   ]
  },
  {
   "cell_type": "code",
   "execution_count": 2,
   "metadata": {},
   "outputs": [],
   "source": [
    "# Elementos introductorios\n",
    "\n",
    "import numpy as np # Operaciones vectorizadas"
   ]
  },
  {
   "cell_type": "code",
   "execution_count": 43,
   "metadata": {},
   "outputs": [],
   "source": [
    "# Funciones de activación\n",
    "\n",
    "def escalon(x):\n",
    "    if x<0:\n",
    "        return 0\n",
    "    else: return 1"
   ]
  },
  {
   "cell_type": "code",
   "execution_count": 16,
   "metadata": {},
   "outputs": [],
   "source": [
    "def sigmoide(x):\n",
    "    return 1/(1+np.exp(-x))"
   ]
  },
  {
   "cell_type": "markdown",
   "metadata": {},
   "source": [
    "### Generación de una muestra de datos aleatoria"
   ]
  },
  {
   "cell_type": "code",
   "execution_count": 24,
   "metadata": {},
   "outputs": [
    {
     "data": {
      "text/plain": [
       "array([[0, 0, 0],\n",
       "       [0, 0, 1],\n",
       "       [0, 1, 0],\n",
       "       [0, 1, 1],\n",
       "       [1, 0, 0],\n",
       "       [1, 0, 1],\n",
       "       [1, 1, 0],\n",
       "       [1, 1, 1]])"
      ]
     },
     "execution_count": 24,
     "metadata": {},
     "output_type": "execute_result"
    }
   ],
   "source": [
    "# Definamos entradas arbitrarias binarias x,y,z\n",
    "# Combinación de números binarios de tres digitos\n",
    "\n",
    "entrada = []\n",
    "for x in range(0,2):\n",
    "    for y in range(0,2):\n",
    "        for z in range(0,2):\n",
    "            entrada.append([x,y,z])\n",
    "\n",
    "entrada = np.array(entrada)\n",
    "entrada"
   ]
  },
  {
   "cell_type": "code",
   "execution_count": 23,
   "metadata": {},
   "outputs": [],
   "source": [
    "# Si queremos generalizar el proceso para un arreglo de tamaño (2^n,n)\n",
    "# podemos utilizar prodcutos cartesiano con la función intertools.product()\n",
    "# A x B = {(a,b): a E A, b E B}\n",
    "# cardinalidad del conjunto 2^n\n",
    "\n",
    "from itertools import product\n",
    "\n",
    "def generar_bits(n):\n",
    "    entrada = list(product([0,1],repeat = n))\n",
    "    return np.array(entrada)"
   ]
  },
  {
   "cell_type": "code",
   "execution_count": 31,
   "metadata": {},
   "outputs": [
    {
     "data": {
      "text/plain": [
       "array([[0, 0, 0, 0],\n",
       "       [0, 0, 0, 1],\n",
       "       [0, 0, 1, 0],\n",
       "       [0, 0, 1, 1],\n",
       "       [0, 1, 0, 0],\n",
       "       [0, 1, 0, 1],\n",
       "       [0, 1, 1, 0],\n",
       "       [0, 1, 1, 1],\n",
       "       [1, 0, 0, 0],\n",
       "       [1, 0, 0, 1],\n",
       "       [1, 0, 1, 0],\n",
       "       [1, 0, 1, 1],\n",
       "       [1, 1, 0, 0],\n",
       "       [1, 1, 0, 1],\n",
       "       [1, 1, 1, 0],\n",
       "       [1, 1, 1, 1]])"
      ]
     },
     "execution_count": 31,
     "metadata": {},
     "output_type": "execute_result"
    }
   ],
   "source": [
    "entrada = generar_bits(4)\n",
    "entrada"
   ]
  },
  {
   "cell_type": "markdown",
   "metadata": {},
   "source": [
    "### Especifiquemos la red neuronal"
   ]
  },
  {
   "cell_type": "code",
   "execution_count": null,
   "metadata": {},
   "outputs": [],
   "source": [
    "def neurona(input,weight,bias,f):\n",
    "    return f(np.dot(weight,input.T)+bias)"
   ]
  },
  {
   "cell_type": "markdown",
   "metadata": {},
   "source": [
    "### Probemos la red con funciones AND y OR"
   ]
  },
  {
   "cell_type": "code",
   "execution_count": 40,
   "metadata": {},
   "outputs": [
    {
     "data": {
      "text/plain": [
       "array([False, False, False, False, False, False, False, False, False,\n",
       "       False, False, False, False, False, False,  True])"
      ]
     },
     "execution_count": 40,
     "metadata": {},
     "output_type": "execute_result"
    }
   ],
   "source": [
    "# Primero probemos las salidas que tendrían AND y OR\n",
    "# Usemos el operador funcional np.all() para AND\n",
    "# Si todas las entradas son verdaderas, la salida es verdadera\n",
    "\n",
    "np.all(entrada, axis=1) "
   ]
  },
  {
   "cell_type": "code",
   "execution_count": 41,
   "metadata": {},
   "outputs": [
    {
     "data": {
      "text/plain": [
       "array([False,  True,  True,  True,  True,  True,  True,  True,  True,\n",
       "        True,  True,  True,  True,  True,  True,  True])"
      ]
     },
     "execution_count": 41,
     "metadata": {},
     "output_type": "execute_result"
    }
   ],
   "source": [
    "# Para OR podemos utilizar la función np.any()\n",
    "\n",
    "np.any(entrada, axis=1)"
   ]
  },
  {
   "cell_type": "code",
   "execution_count": 39,
   "metadata": {},
   "outputs": [
    {
     "data": {
      "text/plain": [
       "array([0, 0, 0, 0, 0, 0, 0, 0, 0, 0, 0, 0, 0, 0, 0, 1])"
      ]
     },
     "execution_count": 39,
     "metadata": {},
     "output_type": "execute_result"
    }
   ],
   "source": [
    "# Evaluemos la función and, cambiemos el tipado para que aparezca en números\n",
    "\n",
    "and4 = np.all(entrada, axis=1).astype(int)\n",
    "and4"
   ]
  },
  {
   "cell_type": "markdown",
   "metadata": {},
   "source": [
    "### Probemos nuestra red neuronal"
   ]
  },
  {
   "cell_type": "code",
   "execution_count": 44,
   "metadata": {},
   "outputs": [
    {
     "data": {
      "text/plain": [
       "array([1, 1, 1, 1, 1, 1, 1, 1, 1, 1, 1, 1, 1, 1, 1, 1])"
      ]
     },
     "execution_count": 44,
     "metadata": {},
     "output_type": "execute_result"
    }
   ],
   "source": [
    "# Empecemos por probar diferentes vectores de pesos\n",
    "\n",
    "weight = np.array([1,1,1,1])\n",
    "bias = np.array(1)\n",
    "\n",
    "neurona(entrada,weight,bias,np.vectorize(escalon))\n",
    "\n",
    "# Esta red no funciona muy bien, porque no nos da la salida esperada del AND\n",
    "# ¿Cómo podemos modificarlo para resolver el problema?"
   ]
  },
  {
   "cell_type": "code",
   "execution_count": 52,
   "metadata": {},
   "outputs": [
    {
     "data": {
      "text/plain": [
       "array([0, 0, 0, 0, 0, 0, 0, 0, 0, 0, 0, 0, 0, 0, 0, 1])"
      ]
     },
     "execution_count": 52,
     "metadata": {},
     "output_type": "execute_result"
    }
   ],
   "source": [
    "# Probemos modificando el bias, que parece ser el que hace que todas sean 1\n",
    "\n",
    "bias = np.array(-entrada.shape[1]) # ¿por qué?\n",
    "\n",
    "neurona(entrada,weight,bias,np.vectorize(escalon))"
   ]
  },
  {
   "cell_type": "code",
   "execution_count": 56,
   "metadata": {},
   "outputs": [
    {
     "data": {
      "text/plain": [
       "array([[0, 0, 0, 0, 0, 0, 0, 0, 0, 0, 0, 0, 0, 0, 0, 1],\n",
       "       [0, 1, 1, 1, 1, 1, 1, 1, 1, 1, 1, 1, 1, 1, 1, 1]])"
      ]
     },
     "execution_count": 56,
     "metadata": {},
     "output_type": "execute_result"
    }
   ],
   "source": [
    "# Podemos poner dos neuronas, una que me calcule el AND y el otro el OR\n",
    "\n",
    "neurona(entrada,\n",
    "        np.array([[1,1,1,1],[1,1,1,1]]),\n",
    "        np.array([[-4],[-.5]]),\n",
    "        np.vectorize(escalon))"
   ]
  },
  {
   "cell_type": "markdown",
   "metadata": {},
   "source": [
    "### Implementación de una red con dos capas"
   ]
  },
  {
   "cell_type": "code",
   "execution_count": 64,
   "metadata": {},
   "outputs": [],
   "source": [
    "def neurona_dos_capas(X, W1, b1, W2, b2, f):\n",
    "  neta1 = np.dot(W1,X.T) + b1\n",
    "  a1 = f(neta1)\n",
    "  neta2 = np.dot(W2,a1) + b2\n",
    "  a2 = f(neta2)\n",
    "  return a2"
   ]
  },
  {
   "cell_type": "code",
   "execution_count": 83,
   "metadata": {},
   "outputs": [
    {
     "data": {
      "text/plain": [
       "array([[0, 0, 0, 0, 0, 0, 0, 0, 0, 0, 0, 0, 0, 0, 0, 0],\n",
       "       [1, 1, 1, 1, 1, 1, 1, 1, 1, 1, 1, 1, 1, 1, 1, 1],\n",
       "       [0, 0, 0, 0, 0, 0, 0, 0, 0, 0, 0, 0, 0, 0, 0, 0]])"
      ]
     },
     "execution_count": 83,
     "metadata": {},
     "output_type": "execute_result"
    }
   ],
   "source": [
    "neurona_dos_capas(\n",
    "    entrada,\n",
    "    np.random.uniform(-1, 1, size=(4, 4)) , #definimos 4 neuronas\n",
    "    np.random.uniform(-1, 1, size=(4, 1)) , # pesos aleatorios entre [-1,1]\n",
    "    np.random.uniform(-1, 1, size=(3, 4)), # 3 neuronas en la 2da capa\n",
    "    np.random.uniform(-1, 1, size=(3, 1)),\n",
    "    np.vectorize(escalon) # debo tener 3 salidas, una por cada neurona\n",
    ")"
   ]
  }
 ],
 "metadata": {
  "kernelspec": {
   "display_name": "Python 3",
   "language": "python",
   "name": "python3"
  },
  "language_info": {
   "codemirror_mode": {
    "name": "ipython",
    "version": 3
   },
   "file_extension": ".py",
   "mimetype": "text/x-python",
   "name": "python",
   "nbconvert_exporter": "python",
   "pygments_lexer": "ipython3",
   "version": "3.12.7"
  }
 },
 "nbformat": 4,
 "nbformat_minor": 2
}
