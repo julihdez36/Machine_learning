{
 "cells": [
  {
   "cell_type": "code",
   "execution_count": 1,
   "metadata": {},
   "outputs": [
    {
     "name": "stdout",
     "output_type": "stream",
     "text": [
      "El número es menor a 5\n"
     ]
    }
   ],
   "source": [
    "# Estructuas de control en python\n",
    "\n",
    "a = int(input('Ingrese un número')) #Tipado dinámico (coerción)\n",
    "\n",
    "if a>=5: # Uso de indentación para definir bloques de código\n",
    "    print('Su número es mayor o igual a 5')\n",
    "else: print('El número es menor a 5')"
   ]
  },
  {
   "cell_type": "code",
   "execution_count": 3,
   "metadata": {},
   "outputs": [
    {
     "name": "stdout",
     "output_type": "stream",
     "text": [
      "1\n"
     ]
    }
   ],
   "source": [
    "if a >= 0 and a < 5:\n",
    "    print(1)\n",
    "else:\n",
    "    if a >=5 and a <=10:\n",
    "        print(2)\n",
    "    else: print(3)\n",
    "\n",
    "# Si bien esto es posible, podemos hacer una comprensión, un 'azucar sintático', que nos permite comprimir el código. Esto con la sentencia elif"
   ]
  },
  {
   "cell_type": "code",
   "execution_count": 4,
   "metadata": {},
   "outputs": [
    {
     "name": "stdout",
     "output_type": "stream",
     "text": [
      "1\n"
     ]
    }
   ],
   "source": [
    "if a >=0 and a <5:\n",
    "    print(1)\n",
    "elif a >=5 and a<=10:\n",
    "    print(2)\n",
    "else: print(3)"
   ]
  },
  {
   "cell_type": "code",
   "execution_count": 7,
   "metadata": {},
   "outputs": [
    {
     "name": "stdout",
     "output_type": "stream",
     "text": [
      "1\n",
      "2\n",
      "3\n",
      "4\n"
     ]
    }
   ],
   "source": [
    "# For es un iterador estricto. Requiere de un objeto iterable (lista, str)\n",
    "\n",
    "for i in range(1,5): # Mi objeto iterable\n",
    "    print(i)"
   ]
  },
  {
   "cell_type": "code",
   "execution_count": 10,
   "metadata": {},
   "outputs": [
    {
     "name": "stdout",
     "output_type": "stream",
     "text": [
      "0\n",
      "1\n",
      "2\n",
      "3\n",
      "4\n",
      "5\n"
     ]
    }
   ],
   "source": [
    "# El while funciona genera una iteración siempre que se cumpla una condición\n",
    "a = 0\n",
    "while a<= 5:\n",
    "    print(a)\n",
    "    a += 1"
   ]
  },
  {
   "cell_type": "code",
   "execution_count": 18,
   "metadata": {},
   "outputs": [
    {
     "name": "stdout",
     "output_type": "stream",
     "text": [
      "13\n"
     ]
    }
   ],
   "source": [
    "# Funciones\n",
    "\n",
    "def f(x,y): #funciones reciben unos parámetros\n",
    "    x1 = x**2\n",
    "    x2 = y**2\n",
    "    return x1+x2\n",
    "\n",
    "print(f(2,3))"
   ]
  },
  {
   "cell_type": "code",
   "execution_count": 19,
   "metadata": {},
   "outputs": [
    {
     "name": "stdout",
     "output_type": "stream",
     "text": [
      "50\n"
     ]
    }
   ],
   "source": [
    "def g(k,x,y): #En este caso, la función recibe una función como parámetro\n",
    "    x1 = k(x,y)\n",
    "    x2 = k(y,x)\n",
    "    return x1+x2\n",
    "\n",
    "print(g(f,3,4))"
   ]
  },
  {
   "cell_type": "code",
   "execution_count": 21,
   "metadata": {},
   "outputs": [
    {
     "name": "stdout",
     "output_type": "stream",
     "text": [
      "<function h.<locals>.h2 at 0x0000026ECE02CD60>\n",
      "12\n"
     ]
    }
   ],
   "source": [
    "def h(x,y):\n",
    "    def h2(a,b):\n",
    "        return x+a+b+y\n",
    "    return h2\n",
    "\n",
    "print(h(1,2))\n",
    "print(h(1,2)(4,5))"
   ]
  },
  {
   "cell_type": "markdown",
   "metadata": {},
   "source": [
    "# Estructuras de datos\n",
    "Conjuntos, listas, tuplas\n",
    "- Mutables o no mutables\n",
    "- Secuenciación o de iteración\n",
    "- Tipo de operación\n",
    " - Operaciones inplace: modifican la estructura y retornan la información\n",
    " - Operaciones de valor: crea una nueva estructura\n"
   ]
  },
  {
   "cell_type": "code",
   "execution_count": 23,
   "metadata": {},
   "outputs": [],
   "source": [
    "dic = {\n",
    "    'nombre': 'Carlos',\n",
    "    'edad': 23,\n",
    "    'Ciudad': 'Cali',\n",
    "    'Pais': 'Colombia'\n",
    "}"
   ]
  },
  {
   "cell_type": "code",
   "execution_count": 25,
   "metadata": {},
   "outputs": [
    {
     "name": "stdout",
     "output_type": "stream",
     "text": [
      "José\n",
      "José\n"
     ]
    }
   ],
   "source": [
    "print(dic['nombre'])\n",
    "dic['nombre'] = 'José' #Mutabilidad\n",
    "print(dic['nombre'])"
   ]
  },
  {
   "cell_type": "code",
   "execution_count": 26,
   "metadata": {},
   "outputs": [
    {
     "data": {
      "text/plain": [
       "{'nombre': 'José',\n",
       " 'edad': 23,\n",
       " 'Ciudad': 'Cali',\n",
       " 'Pais': 'Colombia',\n",
       " 'empleo': 'Desarrollador'}"
      ]
     },
     "execution_count": 26,
     "metadata": {},
     "output_type": "execute_result"
    }
   ],
   "source": [
    "dic['empleo'] = 'Desarrollador' #Agrega valor\n",
    "dic"
   ]
  },
  {
   "cell_type": "code",
   "execution_count": 27,
   "metadata": {},
   "outputs": [
    {
     "name": "stdout",
     "output_type": "stream",
     "text": [
      "nombre\n",
      "edad\n",
      "Ciudad\n",
      "Pais\n",
      "empleo\n"
     ]
    }
   ],
   "source": [
    "#Si quiero recorre la estructura, es importante recordad que los diccionares no son secuanciales, no son de indexación\n",
    "\n",
    "for k in dic: #Si quiero ver los nombres del dic\n",
    "    print(k)"
   ]
  },
  {
   "cell_type": "code",
   "execution_count": 28,
   "metadata": {},
   "outputs": [
    {
     "name": "stdout",
     "output_type": "stream",
     "text": [
      "José\n",
      "23\n",
      "Cali\n",
      "Colombia\n",
      "Desarrollador\n"
     ]
    }
   ],
   "source": [
    "for v in dic.values(): #Si quiero ver los valores\n",
    "    print(v)"
   ]
  },
  {
   "cell_type": "code",
   "execution_count": 31,
   "metadata": {},
   "outputs": [
    {
     "name": "stdout",
     "output_type": "stream",
     "text": [
      "nombre José\n",
      "edad 23\n",
      "Ciudad Cali\n",
      "Pais Colombia\n",
      "empleo Desarrollador\n"
     ]
    }
   ],
   "source": [
    "for k,v in dic.items():\n",
    "    print(k,v)"
   ]
  },
  {
   "cell_type": "code",
   "execution_count": 32,
   "metadata": {},
   "outputs": [
    {
     "name": "stdout",
     "output_type": "stream",
     "text": [
      "1\n",
      "2\n",
      "3\n",
      "4\n",
      "5\n",
      "6\n"
     ]
    }
   ],
   "source": [
    "list1 = [1,2,3,4,5,6]\n",
    "\n",
    "for i in list1:\n",
    "    print(i)"
   ]
  },
  {
   "cell_type": "code",
   "execution_count": null,
   "metadata": {},
   "outputs": [],
   "source": [
    "list1[:3]   "
   ]
  },
  {
   "cell_type": "code",
   "execution_count": 34,
   "metadata": {},
   "outputs": [
    {
     "data": {
      "text/plain": [
       "[[1, 3, 4], [2, 2], [1, 2, 3, 4], True]"
      ]
     },
     "execution_count": 34,
     "metadata": {},
     "output_type": "execute_result"
    }
   ],
   "source": [
    "list2 =  [[1,3,4],[2,2],[1,2,3,4],True]\n",
    "def modificarlista(l):\n",
    "    l[3] = 1000\n",
    "\n",
    "modificarlista(list2.copy()) #Si no quiero que lo remplace sino que cree una copia\n",
    "list2"
   ]
  },
  {
   "cell_type": "code",
   "execution_count": null,
   "metadata": {},
   "outputs": [],
   "source": [
    "list2.append(0) #append es una operación inplace"
   ]
  },
  {
   "cell_type": "code",
   "execution_count": 35,
   "metadata": {},
   "outputs": [],
   "source": [
    "# Tuplas\n",
    "tupla1 = (1,2,3,4,5,6) #No son mutables\n",
    "\n",
    "#Se utilizan para almacenar datos que sé que no voy a cambiar. i.e. parametros de conexión de una base de datos"
   ]
  },
  {
   "cell_type": "code",
   "execution_count": 36,
   "metadata": {},
   "outputs": [
    {
     "data": {
      "text/plain": [
       "{1, 2, 3, 4}"
      ]
     },
     "execution_count": 36,
     "metadata": {},
     "output_type": "execute_result"
    }
   ],
   "source": [
    "# Conjutnos, no permiten elementos repetidos\n",
    "{1,1,1,1,1,2,3,4,4,4}"
   ]
  },
  {
   "cell_type": "code",
   "execution_count": 38,
   "metadata": {},
   "outputs": [
    {
     "data": {
      "text/plain": [
       "5"
      ]
     },
     "execution_count": 38,
     "metadata": {},
     "output_type": "execute_result"
    }
   ],
   "source": [
    "# Tres funciones que se usan mucho en el procesamiento de datos: map, filter y reduce (nos dan eficiencia)\n",
    "\n",
    "def g2(x,y):\n",
    "    return x+y\n",
    "\n",
    "g2(2,3)"
   ]
  },
  {
   "cell_type": "code",
   "execution_count": 39,
   "metadata": {},
   "outputs": [
    {
     "data": {
      "text/plain": [
       "3"
      ]
     },
     "execution_count": 39,
     "metadata": {},
     "output_type": "execute_result"
    }
   ],
   "source": [
    "# Hagamos lo mismo usando un lambda\n",
    "\n",
    "g3 = lambda x,y: x+y #Definir funciones simples sin usar el def (no iteradores, o recursividad)\n",
    "g3(1,2)"
   ]
  },
  {
   "cell_type": "code",
   "execution_count": 42,
   "metadata": {},
   "outputs": [
    {
     "data": {
      "text/plain": [
       "[1, 4, 9, 16, 25]"
      ]
     },
     "execution_count": 42,
     "metadata": {},
     "output_type": "execute_result"
    }
   ],
   "source": [
    "lista4 = [1,2,3,4,5] #elevemos cada elementos al caudrado\n",
    "\n",
    "for i in range(len(lista4)):\n",
    "    lista4[i] = lista4[i]**2\n",
    "lista4"
   ]
  },
  {
   "cell_type": "code",
   "execution_count": 43,
   "metadata": {},
   "outputs": [
    {
     "data": {
      "text/plain": [
       "[1, 4, 9, 16, 25]"
      ]
     },
     "execution_count": 43,
     "metadata": {},
     "output_type": "execute_result"
    }
   ],
   "source": [
    "#Una forma mas eficiente de hacerlos es a través de map\n",
    "lista4 = [1,2,3,4,5]\n",
    "lista5 = list(map(lambda x: x**2,lista4))\n",
    "lista5"
   ]
  },
  {
   "cell_type": "code",
   "execution_count": 45,
   "metadata": {},
   "outputs": [
    {
     "data": {
      "text/plain": [
       "[2, 4, 6]"
      ]
     },
     "execution_count": 45,
     "metadata": {},
     "output_type": "execute_result"
    }
   ],
   "source": [
    "# Sacar los elementos pares de esta lista\n",
    "\n",
    "lista6 = [1,2,3,4,5,6]\n",
    "lista7 = []\n",
    "\n",
    "for i in lista6:\n",
    "    if i%2 == 0:\n",
    "        lista7.append(i)\n",
    "\n",
    "lista7"
   ]
  },
  {
   "cell_type": "code",
   "execution_count": 46,
   "metadata": {},
   "outputs": [
    {
     "data": {
      "text/plain": [
       "[2, 4, 6]"
      ]
     },
     "execution_count": 46,
     "metadata": {},
     "output_type": "execute_result"
    }
   ],
   "source": [
    "# Esto lo puedo hacer en una sola linea, usando filter\n",
    "\n",
    "list8 = list(filter(lambda x: x%2 == 0, lista6))\n",
    "list8"
   ]
  },
  {
   "cell_type": "code",
   "execution_count": 47,
   "metadata": {},
   "outputs": [
    {
     "name": "stdout",
     "output_type": "stream",
     "text": [
      "28\n"
     ]
    }
   ],
   "source": [
    "from functools import reduce\n",
    "\n",
    "list9 = [1,2,3,4,5,6,7]\n",
    "sum = 0\n",
    "for i in list9:\n",
    "    sum +=i\n",
    "print(sum)"
   ]
  },
  {
   "cell_type": "code",
   "execution_count": 48,
   "metadata": {},
   "outputs": [
    {
     "name": "stdout",
     "output_type": "stream",
     "text": [
      "28\n"
     ]
    }
   ],
   "source": [
    "sumB = reduce(lambda acc,e: acc+e, list9)\n",
    "print(sumB)"
   ]
  },
  {
   "cell_type": "code",
   "execution_count": 51,
   "metadata": {},
   "outputs": [
    {
     "name": "stdout",
     "output_type": "stream",
     "text": [
      "[0, 2, 4, 6, 8, 10, 12, 14, 16, 18]\n"
     ]
    }
   ],
   "source": [
    "# Generadores de lista\n",
    "print([x for x in range (0,20,2)])"
   ]
  }
 ],
 "metadata": {
  "kernelspec": {
   "display_name": "Python 3",
   "language": "python",
   "name": "python3"
  },
  "language_info": {
   "codemirror_mode": {
    "name": "ipython",
    "version": 3
   },
   "file_extension": ".py",
   "mimetype": "text/x-python",
   "name": "python",
   "nbconvert_exporter": "python",
   "pygments_lexer": "ipython3",
   "version": "3.12.3"
  }
 },
 "nbformat": 4,
 "nbformat_minor": 2
}
