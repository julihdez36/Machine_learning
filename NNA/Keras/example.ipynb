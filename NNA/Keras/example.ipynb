{
 "cells": [
  {
   "cell_type": "code",
   "execution_count": 8,
   "metadata": {},
   "outputs": [],
   "source": [
    "import numpy as np\n",
    "import tensorflow as tf\n",
    "from tensorflow.keras.models import Sequential\n",
    "from tensorflow.keras.layers import Dense, Dropout\n",
    "from tensorflow.keras.optimizers import Adam\n",
    "from sklearn.model_selection import train_test_split\n",
    "from sklearn.datasets import make_classification\n",
    "from sklearn.metrics import accuracy_score\n",
    "\n",
    "# 1. Generar datos sintéticos para un problema de clasificación binaria\n",
    "# --------------------------------------------------------------------\n",
    "np.random.seed(42)  # Para reproducibilidad\n",
    "X, y = make_classification(\n",
    "    n_samples=1000,  # Número de muestras\n",
    "    n_features=20,   # Número de características\n",
    "    n_informative=15,  # Características útiles para predecir la clase\n",
    "    n_redundant=5,   # Características redundantes (combinaciones lineales)\n",
    "    n_classes=2,     # Clasificación binaria\n",
    "    random_state=42\n",
    ")\n",
    "\n",
    "# Dividir los datos en conjuntos de entrenamiento y prueba\n",
    "X_train, X_test, y_train, y_test = train_test_split(X, y, test_size=0.2, random_state=42)"
   ]
  },
  {
   "cell_type": "code",
   "execution_count": 9,
   "metadata": {},
   "outputs": [],
   "source": [
    "# 2. Definir una función para crear modelos con diferentes hiperparámetros\n",
    "# -------------------------------------------------------------------------\n",
    "def crear_modelo(num_capas, neuronas_por_capa, activacion, dropout_rate, learning_rate):\n",
    "    \"\"\"\n",
    "    Crea y devuelve un modelo de red neuronal según los hiperparámetros especificados.\n",
    "    \"\"\"\n",
    "    modelo = Sequential()\n",
    "    modelo.add(Dense(neuronas_por_capa, activation=activacion, input_dim=X_train.shape[1]))\n",
    "    \n",
    "    # Añadir capas ocultas y dropout\n",
    "    for _ in range(num_capas - 1):\n",
    "        modelo.add(Dense(neuronas_por_capa, activation=activacion))\n",
    "        modelo.add(Dropout(dropout_rate))\n",
    "    \n",
    "    # Capa de salida\n",
    "    modelo.add(Dense(1, activation='sigmoid'))  # Salida binaria\n",
    "    \n",
    "    # Compilar el modelo\n",
    "    optimizer = Adam(learning_rate=learning_rate)\n",
    "    modelo.compile(optimizer=optimizer, loss='binary_crossentropy', metrics=['accuracy'])\n",
    "    \n",
    "    return modelo"
   ]
  },
  {
   "cell_type": "code",
   "execution_count": 10,
   "metadata": {},
   "outputs": [],
   "source": [
    "# 3. Espacio de búsqueda para los hiperparámetros\n",
    "# -----------------------------------------------\n",
    "espacio_busqueda = {\n",
    "    \"num_capas\": [2, 3, 4],               # Número de capas ocultas\n",
    "    \"neuronas_por_capa\": [32, 64, 128],  # Número de neuronas por capa\n",
    "    \"activacion\": ['relu', 'tanh'],      # Funciones de activación\n",
    "    \"dropout_rate\": [0.2, 0.3, 0.5],     # Tasa de dropout\n",
    "    \"learning_rate\": [0.001, 0.01]       # Tasas de aprendizaje\n",
    "}"
   ]
  },
  {
   "cell_type": "code",
   "execution_count": 11,
   "metadata": {},
   "outputs": [
    {
     "name": "stderr",
     "output_type": "stream",
     "text": [
      "C:\\Users\\Julian\\AppData\\Local\\Packages\\PythonSoftwareFoundation.Python.3.12_qbz5n2kfra8p0\\LocalCache\\local-packages\\Python312\\site-packages\\keras\\src\\layers\\core\\dense.py:87: UserWarning: Do not pass an `input_shape`/`input_dim` argument to a layer. When using Sequential models, prefer using an `Input(shape)` object as the first layer in the model instead.\n",
      "  super().__init__(activity_regularizer=activity_regularizer, **kwargs)\n"
     ]
    },
    {
     "name": "stdout",
     "output_type": "stream",
     "text": [
      "\u001b[1m7/7\u001b[0m \u001b[32m━━━━━━━━━━━━━━━━━━━━\u001b[0m\u001b[37m\u001b[0m \u001b[1m1s\u001b[0m 55ms/step\n"
     ]
    },
    {
     "name": "stderr",
     "output_type": "stream",
     "text": [
      "C:\\Users\\Julian\\AppData\\Local\\Packages\\PythonSoftwareFoundation.Python.3.12_qbz5n2kfra8p0\\LocalCache\\local-packages\\Python312\\site-packages\\keras\\src\\layers\\core\\dense.py:87: UserWarning: Do not pass an `input_shape`/`input_dim` argument to a layer. When using Sequential models, prefer using an `Input(shape)` object as the first layer in the model instead.\n",
      "  super().__init__(activity_regularizer=activity_regularizer, **kwargs)\n"
     ]
    },
    {
     "name": "stdout",
     "output_type": "stream",
     "text": [
      "\u001b[1m7/7\u001b[0m \u001b[32m━━━━━━━━━━━━━━━━━━━━\u001b[0m\u001b[37m\u001b[0m \u001b[1m0s\u001b[0m 20ms/step\n"
     ]
    },
    {
     "name": "stderr",
     "output_type": "stream",
     "text": [
      "C:\\Users\\Julian\\AppData\\Local\\Packages\\PythonSoftwareFoundation.Python.3.12_qbz5n2kfra8p0\\LocalCache\\local-packages\\Python312\\site-packages\\keras\\src\\layers\\core\\dense.py:87: UserWarning: Do not pass an `input_shape`/`input_dim` argument to a layer. When using Sequential models, prefer using an `Input(shape)` object as the first layer in the model instead.\n",
      "  super().__init__(activity_regularizer=activity_regularizer, **kwargs)\n"
     ]
    },
    {
     "name": "stdout",
     "output_type": "stream",
     "text": [
      "WARNING:tensorflow:5 out of the last 15 calls to <function TensorFlowTrainer.make_predict_function.<locals>.one_step_on_data_distributed at 0x000002817BF399E0> triggered tf.function retracing. Tracing is expensive and the excessive number of tracings could be due to (1) creating @tf.function repeatedly in a loop, (2) passing tensors with different shapes, (3) passing Python objects instead of tensors. For (1), please define your @tf.function outside of the loop. For (2), @tf.function has reduce_retracing=True option that can avoid unnecessary retracing. For (3), please refer to https://www.tensorflow.org/guide/function#controlling_retracing and https://www.tensorflow.org/api_docs/python/tf/function for  more details.\n",
      "\u001b[1m7/7\u001b[0m \u001b[32m━━━━━━━━━━━━━━━━━━━━\u001b[0m\u001b[37m\u001b[0m \u001b[1m0s\u001b[0m 35ms/step\n"
     ]
    },
    {
     "name": "stderr",
     "output_type": "stream",
     "text": [
      "C:\\Users\\Julian\\AppData\\Local\\Packages\\PythonSoftwareFoundation.Python.3.12_qbz5n2kfra8p0\\LocalCache\\local-packages\\Python312\\site-packages\\keras\\src\\layers\\core\\dense.py:87: UserWarning: Do not pass an `input_shape`/`input_dim` argument to a layer. When using Sequential models, prefer using an `Input(shape)` object as the first layer in the model instead.\n",
      "  super().__init__(activity_regularizer=activity_regularizer, **kwargs)\n"
     ]
    },
    {
     "name": "stdout",
     "output_type": "stream",
     "text": [
      "WARNING:tensorflow:5 out of the last 15 calls to <function TensorFlowTrainer.make_predict_function.<locals>.one_step_on_data_distributed at 0x000002817F7CDC60> triggered tf.function retracing. Tracing is expensive and the excessive number of tracings could be due to (1) creating @tf.function repeatedly in a loop, (2) passing tensors with different shapes, (3) passing Python objects instead of tensors. For (1), please define your @tf.function outside of the loop. For (2), @tf.function has reduce_retracing=True option that can avoid unnecessary retracing. For (3), please refer to https://www.tensorflow.org/guide/function#controlling_retracing and https://www.tensorflow.org/api_docs/python/tf/function for  more details.\n",
      "\u001b[1m7/7\u001b[0m \u001b[32m━━━━━━━━━━━━━━━━━━━━\u001b[0m\u001b[37m\u001b[0m \u001b[1m0s\u001b[0m 27ms/step\n"
     ]
    },
    {
     "name": "stderr",
     "output_type": "stream",
     "text": [
      "C:\\Users\\Julian\\AppData\\Local\\Packages\\PythonSoftwareFoundation.Python.3.12_qbz5n2kfra8p0\\LocalCache\\local-packages\\Python312\\site-packages\\keras\\src\\layers\\core\\dense.py:87: UserWarning: Do not pass an `input_shape`/`input_dim` argument to a layer. When using Sequential models, prefer using an `Input(shape)` object as the first layer in the model instead.\n",
      "  super().__init__(activity_regularizer=activity_regularizer, **kwargs)\n"
     ]
    },
    {
     "name": "stdout",
     "output_type": "stream",
     "text": [
      "\u001b[1m7/7\u001b[0m \u001b[32m━━━━━━━━━━━━━━━━━━━━\u001b[0m\u001b[37m\u001b[0m \u001b[1m0s\u001b[0m 26ms/step\n"
     ]
    },
    {
     "name": "stderr",
     "output_type": "stream",
     "text": [
      "C:\\Users\\Julian\\AppData\\Local\\Packages\\PythonSoftwareFoundation.Python.3.12_qbz5n2kfra8p0\\LocalCache\\local-packages\\Python312\\site-packages\\keras\\src\\layers\\core\\dense.py:87: UserWarning: Do not pass an `input_shape`/`input_dim` argument to a layer. When using Sequential models, prefer using an `Input(shape)` object as the first layer in the model instead.\n",
      "  super().__init__(activity_regularizer=activity_regularizer, **kwargs)\n"
     ]
    },
    {
     "name": "stdout",
     "output_type": "stream",
     "text": [
      "\u001b[1m7/7\u001b[0m \u001b[32m━━━━━━━━━━━━━━━━━━━━\u001b[0m\u001b[37m\u001b[0m \u001b[1m0s\u001b[0m 19ms/step\n"
     ]
    },
    {
     "name": "stderr",
     "output_type": "stream",
     "text": [
      "C:\\Users\\Julian\\AppData\\Local\\Packages\\PythonSoftwareFoundation.Python.3.12_qbz5n2kfra8p0\\LocalCache\\local-packages\\Python312\\site-packages\\keras\\src\\layers\\core\\dense.py:87: UserWarning: Do not pass an `input_shape`/`input_dim` argument to a layer. When using Sequential models, prefer using an `Input(shape)` object as the first layer in the model instead.\n",
      "  super().__init__(activity_regularizer=activity_regularizer, **kwargs)\n"
     ]
    },
    {
     "name": "stdout",
     "output_type": "stream",
     "text": [
      "\u001b[1m7/7\u001b[0m \u001b[32m━━━━━━━━━━━━━━━━━━━━\u001b[0m\u001b[37m\u001b[0m \u001b[1m0s\u001b[0m 27ms/step\n"
     ]
    },
    {
     "name": "stderr",
     "output_type": "stream",
     "text": [
      "C:\\Users\\Julian\\AppData\\Local\\Packages\\PythonSoftwareFoundation.Python.3.12_qbz5n2kfra8p0\\LocalCache\\local-packages\\Python312\\site-packages\\keras\\src\\layers\\core\\dense.py:87: UserWarning: Do not pass an `input_shape`/`input_dim` argument to a layer. When using Sequential models, prefer using an `Input(shape)` object as the first layer in the model instead.\n",
      "  super().__init__(activity_regularizer=activity_regularizer, **kwargs)\n"
     ]
    },
    {
     "name": "stdout",
     "output_type": "stream",
     "text": [
      "\u001b[1m7/7\u001b[0m \u001b[32m━━━━━━━━━━━━━━━━━━━━\u001b[0m\u001b[37m\u001b[0m \u001b[1m0s\u001b[0m 35ms/step\n"
     ]
    },
    {
     "name": "stderr",
     "output_type": "stream",
     "text": [
      "C:\\Users\\Julian\\AppData\\Local\\Packages\\PythonSoftwareFoundation.Python.3.12_qbz5n2kfra8p0\\LocalCache\\local-packages\\Python312\\site-packages\\keras\\src\\layers\\core\\dense.py:87: UserWarning: Do not pass an `input_shape`/`input_dim` argument to a layer. When using Sequential models, prefer using an `Input(shape)` object as the first layer in the model instead.\n",
      "  super().__init__(activity_regularizer=activity_regularizer, **kwargs)\n"
     ]
    },
    {
     "name": "stdout",
     "output_type": "stream",
     "text": [
      "\u001b[1m7/7\u001b[0m \u001b[32m━━━━━━━━━━━━━━━━━━━━\u001b[0m\u001b[37m\u001b[0m \u001b[1m0s\u001b[0m 23ms/step\n"
     ]
    },
    {
     "name": "stderr",
     "output_type": "stream",
     "text": [
      "C:\\Users\\Julian\\AppData\\Local\\Packages\\PythonSoftwareFoundation.Python.3.12_qbz5n2kfra8p0\\LocalCache\\local-packages\\Python312\\site-packages\\keras\\src\\layers\\core\\dense.py:87: UserWarning: Do not pass an `input_shape`/`input_dim` argument to a layer. When using Sequential models, prefer using an `Input(shape)` object as the first layer in the model instead.\n",
      "  super().__init__(activity_regularizer=activity_regularizer, **kwargs)\n"
     ]
    },
    {
     "name": "stdout",
     "output_type": "stream",
     "text": [
      "\u001b[1m7/7\u001b[0m \u001b[32m━━━━━━━━━━━━━━━━━━━━\u001b[0m\u001b[37m\u001b[0m \u001b[1m0s\u001b[0m 15ms/step\n"
     ]
    }
   ],
   "source": [
    "# 4. Búsqueda aleatoria de modelos\n",
    "# --------------------------------\n",
    "mejor_modelo = None\n",
    "mejor_puntuacion = 0\n",
    "resultados = []\n",
    "\n",
    "for _ in range(10):  # Probar 10 configuraciones aleatorias\n",
    "    # Seleccionar una combinación de hiperparámetros al azar\n",
    "    num_capas = np.random.choice(espacio_busqueda[\"num_capas\"])\n",
    "    neuronas_por_capa = np.random.choice(espacio_busqueda[\"neuronas_por_capa\"])\n",
    "    activacion = np.random.choice(espacio_busqueda[\"activacion\"])\n",
    "    dropout_rate = np.random.choice(espacio_busqueda[\"dropout_rate\"])\n",
    "    learning_rate = np.random.choice(espacio_busqueda[\"learning_rate\"])\n",
    "    \n",
    "    # Crear el modelo\n",
    "    modelo = crear_modelo(num_capas, neuronas_por_capa, activacion, dropout_rate, learning_rate)\n",
    "    \n",
    "    # Entrenar el modelo\n",
    "    modelo.fit(X_train, y_train, epochs=20, batch_size=32, verbose=0)  # verbose=0 para entrenar en silencio\n",
    "    \n",
    "    # Evaluar el modelo\n",
    "    y_pred = (modelo.predict(X_test) > 0.5).astype(int)\n",
    "    puntuacion = accuracy_score(y_test, y_pred)\n",
    "    \n",
    "    # Guardar los resultados\n",
    "    resultados.append({\n",
    "        \"num_capas\": num_capas,\n",
    "        \"neuronas_por_capa\": neuronas_por_capa,\n",
    "        \"activacion\": activacion,\n",
    "        \"dropout_rate\": dropout_rate,\n",
    "        \"learning_rate\": learning_rate,\n",
    "        \"accuracy\": puntuacion\n",
    "    })\n",
    "    \n",
    "    # Actualizar el mejor modelo si este es el más preciso hasta ahora\n",
    "    if puntuacion > mejor_puntuacion:\n",
    "        mejor_modelo = modelo\n",
    "        mejor_puntuacion = puntuacion"
   ]
  },
  {
   "cell_type": "code",
   "execution_count": 12,
   "metadata": {},
   "outputs": [
    {
     "name": "stdout",
     "output_type": "stream",
     "text": [
      "Resultados de la búsqueda aleatoria:\n",
      "   num_capas  neuronas_por_capa activacion  dropout_rate  learning_rate  \\\n",
      "3          4                 64       relu           0.3          0.010   \n",
      "0          4                 32       relu           0.5          0.010   \n",
      "9          2                128       relu           0.2          0.001   \n",
      "5          3                 64       relu           0.2          0.001   \n",
      "6          4                128       relu           0.3          0.010   \n",
      "\n",
      "   accuracy  \n",
      "3     0.970  \n",
      "0     0.950  \n",
      "9     0.950  \n",
      "5     0.945  \n",
      "6     0.945  \n",
      "\n",
      "Mejor precisión obtenida: 0.9700\n",
      "\u001b[1m7/7\u001b[0m \u001b[32m━━━━━━━━━━━━━━━━━━━━\u001b[0m\u001b[37m\u001b[0m \u001b[1m0s\u001b[0m 2ms/step \n",
      "Precisión final del mejor modelo en el conjunto de prueba: 0.9700\n"
     ]
    }
   ],
   "source": [
    "# 5. Mostrar los resultados\n",
    "# -------------------------\n",
    "import pandas as pd\n",
    "\n",
    "# Convertir los resultados en un DataFrame para análisis\n",
    "df_resultados = pd.DataFrame(resultados)\n",
    "print(\"Resultados de la búsqueda aleatoria:\")\n",
    "print(df_resultados.sort_values(by=\"accuracy\", ascending=False).head())\n",
    "\n",
    "print(f\"\\nMejor precisión obtenida: {mejor_puntuacion:.4f}\")\n",
    "\n",
    "# 6. Evaluar el mejor modelo\n",
    "# --------------------------\n",
    "y_pred_mejor = (mejor_modelo.predict(X_test) > 0.5).astype(int)\n",
    "accuracy_final = accuracy_score(y_test, y_pred_mejor)\n",
    "print(f\"Precisión final del mejor modelo en el conjunto de prueba: {accuracy_final:.4f}\")\n"
   ]
  },
  {
   "cell_type": "code",
   "execution_count": null,
   "metadata": {},
   "outputs": [],
   "source": [
    "# Instalar Auto-Keras si no lo tienes ya\n",
    "# pip install autokeras\n",
    "\n",
    "import numpy as np\n",
    "import pandas as pd\n",
    "from sklearn.datasets import make_classification\n",
    "from sklearn.model_selection import train_test_split\n",
    "from sklearn.metrics import accuracy_score\n",
    "import autokeras as ak\n",
    "\n",
    "# 1. Generar datos sintéticos para un problema de clasificación\n",
    "# ------------------------------------------------------------\n",
    "X, y = make_classification(\n",
    "    n_samples=1000,  # Número de muestras\n",
    "    n_features=20,   # Número de características\n",
    "    n_informative=15,  # Características informativas\n",
    "    n_redundant=5,   # Características redundantes\n",
    "    random_state=42\n",
    ")\n",
    "\n",
    "# Dividir los datos en conjuntos de entrenamiento y prueba\n",
    "X_train, X_test, y_train, y_test = train_test_split(X, y, test_size=0.2, random_state=42)\n",
    "\n",
    "# 2. Configurar Auto-Keras para búsqueda de arquitectura\n",
    "# ------------------------------------------------------\n",
    "# El `ak.StructuredDataClassifier` seleccionará automáticamente la mejor arquitectura\n",
    "clf = ak.StructuredDataClassifier(\n",
    "    max_trials=10,    # Número de configuraciones de arquitectura a probar\n",
    "    overwrite=True,   # Sobrescribir modelos anteriores\n",
    "    directory='autokeras_model'  # Carpeta para guardar los resultados\n",
    ")\n",
    "\n",
    "# 3. Entrenar el modelo\n",
    "# ------------------------------------------------------\n",
    "# Auto-Keras ajustará automáticamente los hiperparámetros y la arquitectura\n",
    "clf.fit(x=X_train, y=y_train, epochs=20, validation_split=0.2, verbose=2)\n",
    "\n",
    "# 4. Evaluar el mejor modelo\n",
    "# ------------------------------------------------------\n",
    "# Predecir en el conjunto de prueba\n",
    "y_pred = clf.predict(X_test)\n",
    "y_pred = y_pred.flatten()\n",
    "\n",
    "# Calcular precisión\n",
    "accuracy = accuracy_score(y_test, y_pred)\n",
    "print(f\"Precisión del mejor modelo: {accuracy:.4f}\")\n",
    "\n",
    "# 5. Exportar el modelo óptimo\n",
    "# ------------------------------------------------------\n",
    "# Exportar el modelo entrenado como un modelo de Keras estándar\n",
    "mejor_modelo = clf.export_model()\n",
    "\n",
    "# Mostrar la arquitectura del mejor modelo\n",
    "mejor_modelo.summary()\n",
    "\n",
    "# Guardar el modelo para uso posterior\n",
    "mejor_modelo.save(\"mejor_modelo_autokeras.h5\")\n"
   ]
  }
 ],
 "metadata": {
  "kernelspec": {
   "display_name": "Python 3",
   "language": "python",
   "name": "python3"
  },
  "language_info": {
   "codemirror_mode": {
    "name": "ipython",
    "version": 3
   },
   "file_extension": ".py",
   "mimetype": "text/x-python",
   "name": "python",
   "nbconvert_exporter": "python",
   "pygments_lexer": "ipython3",
   "version": "3.12.8"
  }
 },
 "nbformat": 4,
 "nbformat_minor": 2
}
